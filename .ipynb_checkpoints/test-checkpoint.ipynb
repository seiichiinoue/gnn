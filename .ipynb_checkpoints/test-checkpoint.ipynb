{
 "cells": [
  {
   "cell_type": "code",
   "execution_count": 1,
   "metadata": {},
   "outputs": [],
   "source": [
    "import numpy as np\n",
    "from model import GNN"
   ]
  },
  {
   "cell_type": "code",
   "execution_count": 2,
   "metadata": {},
   "outputs": [],
   "source": [
    "# test input\n",
    "X = [[0, 1, 0, 0, 0, 0, 0, 0, 0, 0, 1],\n",
    "    [1, 0, 0, 0, 0, 0, 0, 0, 0, 1, 0],\n",
    "    [0, 0, 0, 0, 0, 0, 0, 0, 0, 0, 0],\n",
    "    [0, 0, 0, 0, 1, 0, 0, 0, 0, 0, 0],\n",
    "    [0, 0, 0, 1, 0, 0, 0, 0, 0, 1, 0],\n",
    "    [0, 0, 0, 0, 0, 0, 0, 0, 1, 0, 1],\n",
    "    [0, 0, 0, 0, 0, 0, 0, 0, 0, 0, 0],\n",
    "    [0, 0, 0, 0, 0, 0, 0, 0, 0, 0, 1],\n",
    "    [0, 0, 0, 0, 0, 1, 0, 0, 0, 0, 0],\n",
    "    [0, 1, 0, 0, 1, 0, 0, 0, 0, 0, 1],\n",
    "    [1, 0, 0, 0, 0, 1, 0, 1, 0, 1, 0]]\n",
    "y = 0"
   ]
  },
  {
   "cell_type": "code",
   "execution_count": 3,
   "metadata": {},
   "outputs": [],
   "source": [
    "gnn = GNN(X, y)"
   ]
  },
  {
   "cell_type": "code",
   "execution_count": 4,
   "metadata": {},
   "outputs": [
    {
     "name": "stdout",
     "output_type": "stream",
     "text": [
      "epoch: 1 loss: 0.0\n",
      "epoch: 2 loss: 0.0\n",
      "epoch: 3 loss: 0.0\n",
      "epoch: 4 loss: 0.0\n",
      "epoch: 5 loss: 0.0\n",
      "epoch: 6 loss: 0.0\n",
      "epoch: 7 loss: 0.0\n",
      "epoch: 8 loss: 0.0\n",
      "epoch: 9 loss: 0.0\n",
      "epoch: 10 loss: 0.0\n",
      "epoch: 11 loss: 0.0\n",
      "epoch: 12 loss: 0.0\n",
      "epoch: 13 loss: 0.0\n",
      "epoch: 14 loss: 0.0\n",
      "epoch: 15 loss: 0.0\n",
      "epoch: 16 loss: 0.0\n",
      "epoch: 17 loss: 0.0\n",
      "epoch: 18 loss: 0.0\n",
      "epoch: 19 loss: 0.0\n",
      "epoch: 20 loss: 0.0\n",
      "epoch: 21 loss: 0.0\n",
      "epoch: 22 loss: 0.0\n",
      "epoch: 23 loss: 0.0\n",
      "epoch: 24 loss: 0.0\n",
      "epoch: 25 loss: 0.0\n",
      "epoch: 26 loss: 0.0\n",
      "epoch: 27 loss: 0.0\n",
      "epoch: 28 loss: 0.0\n",
      "epoch: 29 loss: 0.0\n",
      "epoch: 30 loss: 0.0\n",
      "epoch: 31 loss: 0.0\n",
      "epoch: 32 loss: 0.0\n",
      "epoch: 33 loss: 0.0\n",
      "epoch: 34 loss: 0.0\n",
      "epoch: 35 loss: 0.0\n",
      "epoch: 36 loss: 0.0\n",
      "epoch: 37 loss: 0.0\n",
      "epoch: 38 loss: 0.0\n",
      "epoch: 39 loss: 0.0\n",
      "epoch: 40 loss: 0.0\n",
      "epoch: 41 loss: 0.0\n",
      "epoch: 42 loss: 0.0\n",
      "epoch: 43 loss: 0.0\n",
      "epoch: 44 loss: 0.0\n",
      "epoch: 45 loss: 0.0\n",
      "epoch: 46 loss: 0.0\n",
      "epoch: 47 loss: 0.0\n",
      "epoch: 48 loss: 0.0\n",
      "epoch: 49 loss: 0.0\n",
      "epoch: 50 loss: 0.0\n",
      "epoch: 51 loss: 0.0\n",
      "epoch: 52 loss: 0.0\n",
      "epoch: 53 loss: 0.0\n",
      "epoch: 54 loss: 0.0\n",
      "epoch: 55 loss: 0.0\n",
      "epoch: 56 loss: 0.0\n",
      "epoch: 57 loss: 0.0\n",
      "epoch: 58 loss: 0.0\n",
      "epoch: 59 loss: 0.0\n",
      "epoch: 60 loss: 0.0\n"
     ]
    }
   ],
   "source": [
    "gnn.train(epoch=5)"
   ]
  },
  {
   "cell_type": "code",
   "execution_count": 5,
   "metadata": {},
   "outputs": [
    {
     "data": {
      "text/plain": [
       "array([ 0.33145662,  0.4328071 , -1.04254727,  0.01747182, -0.03129173,\n",
       "       -0.30069474,  0.22780079,  0.01869616, -0.4113542 ,  0.27538173,\n",
       "       -0.1232693 ])"
      ]
     },
     "execution_count": 5,
     "metadata": {},
     "output_type": "execute_result"
    }
   ],
   "source": [
    "gnn.A"
   ]
  },
  {
   "cell_type": "code",
   "execution_count": 6,
   "metadata": {},
   "outputs": [
    {
     "data": {
      "text/plain": [
       "array([[ 0.40653166,  0.06784778,  0.08671534,  0.09626269, -0.19414685,\n",
       "        -0.25603337,  0.17855384,  0.00476894,  0.38656821, -0.1619765 ,\n",
       "        -0.46603478],\n",
       "       [-0.31211586, -0.02812164, -0.39699094,  0.3124673 , -0.02044635,\n",
       "         0.58980037,  1.14422569, -0.00661579,  0.44570855, -0.71283887,\n",
       "         0.37951654],\n",
       "       [ 0.75075352, -0.01118415,  0.43960149,  0.34705916,  0.56539023,\n",
       "         0.19007853, -0.81091832,  0.71514684,  0.20661879,  0.29606471,\n",
       "        -0.10439635],\n",
       "       [ 0.27431372, -0.06412916, -0.46953833,  0.57167442, -0.21386497,\n",
       "        -0.35990713, -0.13509218,  0.52887524,  0.58109657,  0.268083  ,\n",
       "         0.02613668],\n",
       "       [-0.36681556, -0.05862195,  0.00863405,  0.37426719,  0.17347521,\n",
       "         0.10621138, -0.73807201, -0.20928038,  0.60952062,  0.33978093,\n",
       "         0.13102493],\n",
       "       [ 0.25043856, -0.74731611, -0.35132281, -0.03455624, -0.72655032,\n",
       "         0.14295139, -0.17238305,  0.06820631, -0.77600543, -0.37100658,\n",
       "        -0.19680059],\n",
       "       [-0.68149207,  0.4310528 ,  0.37363549, -0.28226452,  0.29287413,\n",
       "        -0.09301685,  0.56662284,  0.33051086, -0.07994202, -0.18842675,\n",
       "         0.49403553],\n",
       "       [ 0.81704105, -0.17212115, -0.31512506, -0.22250168, -0.81008647,\n",
       "        -0.11160981,  0.54836275,  0.05677125, -0.14125735,  0.02597912,\n",
       "        -0.19752435],\n",
       "       [-0.56081249, -0.27550773, -0.06739516, -0.36217399,  0.18149314,\n",
       "        -0.31755942,  0.45001884,  0.48165211, -0.11008323,  0.04992529,\n",
       "        -0.21074455],\n",
       "       [ 0.84468731, -0.218357  ,  0.1049441 ,  0.64021893,  0.66292292,\n",
       "        -0.31482878,  0.52011069, -0.35735551,  0.33517214, -0.14192852,\n",
       "        -0.25461513],\n",
       "       [ 0.24480286, -0.78850145,  0.23314118,  0.24312239,  0.11008608,\n",
       "        -0.15745447, -0.57346705,  0.52828906, -0.22563243,  0.26522336,\n",
       "         0.35475898]])"
      ]
     },
     "execution_count": 6,
     "metadata": {},
     "output_type": "execute_result"
    }
   ],
   "source": [
    "gnn.W"
   ]
  },
  {
   "cell_type": "code",
   "execution_count": 7,
   "metadata": {},
   "outputs": [
    {
     "data": {
      "text/plain": [
       "0"
      ]
     },
     "execution_count": 7,
     "metadata": {},
     "output_type": "execute_result"
    }
   ],
   "source": [
    "gnn.predict(X)"
   ]
  },
  {
   "cell_type": "code",
   "execution_count": null,
   "metadata": {},
   "outputs": [],
   "source": []
  },
  {
   "cell_type": "code",
   "execution_count": null,
   "metadata": {},
   "outputs": [],
   "source": []
  }
 ],
 "metadata": {
  "kernelspec": {
   "display_name": "Python 3",
   "language": "python",
   "name": "python3"
  },
  "language_info": {
   "codemirror_mode": {
    "name": "ipython",
    "version": 3
   },
   "file_extension": ".py",
   "mimetype": "text/x-python",
   "name": "python",
   "nbconvert_exporter": "python",
   "pygments_lexer": "ipython3",
   "version": "3.6.8"
  }
 },
 "nbformat": 4,
 "nbformat_minor": 2
}
